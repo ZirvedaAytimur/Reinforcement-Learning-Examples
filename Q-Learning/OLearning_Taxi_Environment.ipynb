{
 "cells": [
  {
   "cell_type": "code",
   "execution_count": 1,
   "metadata": {},
   "outputs": [],
   "source": [
    "import gym\n",
    "import numpy as np\n",
    "import random\n",
    "import matplotlib.pyplot as plt"
   ]
  },
  {
   "cell_type": "code",
   "execution_count": 2,
   "metadata": {},
   "outputs": [],
   "source": [
    "env = gym.make(\"Taxi-v3\").env"
   ]
  },
  {
   "cell_type": "code",
   "execution_count": 3,
   "metadata": {},
   "outputs": [],
   "source": [
    "# Q Table\n",
    "# 500 states and 6 actions\n",
    "q_table = np.zeros([env.observation_space.n, env.action_space.n])"
   ]
  },
  {
   "cell_type": "code",
   "execution_count": 4,
   "metadata": {},
   "outputs": [
    {
     "data": {
      "text/plain": [
       "array([[0., 0., 0., 0., 0., 0.],\n",
       "       [0., 0., 0., 0., 0., 0.],\n",
       "       [0., 0., 0., 0., 0., 0.],\n",
       "       ...,\n",
       "       [0., 0., 0., 0., 0., 0.],\n",
       "       [0., 0., 0., 0., 0., 0.],\n",
       "       [0., 0., 0., 0., 0., 0.]])"
      ]
     },
     "execution_count": 4,
     "metadata": {},
     "output_type": "execute_result"
    }
   ],
   "source": [
    "q_table"
   ]
  },
  {
   "cell_type": "code",
   "execution_count": 5,
   "metadata": {},
   "outputs": [],
   "source": [
    "# Hyper parameter\n",
    "alpha = 0.1\n",
    "gamma = 0.9\n",
    "epsilon = 0.1"
   ]
  },
  {
   "cell_type": "code",
   "execution_count": 6,
   "metadata": {},
   "outputs": [],
   "source": [
    "# Plotting Matrix\n",
    "reward_list = []\n",
    "dropouts_list = []"
   ]
  },
  {
   "cell_type": "code",
   "execution_count": 7,
   "metadata": {},
   "outputs": [],
   "source": [
    "# Episode\n",
    "episode_number = 10000\n",
    "for i in range(1, episode_number):\n",
    "    \n",
    "    # initialize environment\n",
    "    state = env.reset()\n",
    "    \n",
    "    reward_count = 0\n",
    "    dropouts = 0\n",
    "    \n",
    "    while True:\n",
    "        # exploit vs explore to find action\n",
    "        # %10 = explore, %90 exploit\n",
    "        if random.uniform(0, 1) < epsilon:\n",
    "            action = env.action_space.sample()\n",
    "        else:\n",
    "            action = np.argmax(q_table[state])\n",
    "        \n",
    "        # action process and take reward/observation\n",
    "        next_state, reward, done, _ = env.step(action)\n",
    "        \n",
    "        # Q learning function\n",
    "        old_value = q_table[state, action]\n",
    "        next_max = np.max(q_table[next_state])\n",
    "        \n",
    "        next_value = (1 - alpha) * old_value + alpha * (reward + gamma * next_max)\n",
    "        \n",
    "        # update Q Table\n",
    "        q_table[state, action] = next_value\n",
    "        \n",
    "        # update state\n",
    "        state = next_state\n",
    "        \n",
    "        # find wrong dropouts\n",
    "        if reward == -10:\n",
    "            dropouts += 1\n",
    "        \n",
    "        if done:\n",
    "            break\n",
    "            \n",
    "        reward_count += reward\n",
    "    \n",
    "    if i%10 == 0:\n",
    "        dropouts_list.append(dropouts)\n",
    "        reward_list.append(reward_count)\n",
    "        # print(\"Episode: {}, reward: {}, wrong dropout: {}\".format(i, reward_count, dropouts))"
   ]
  },
  {
   "cell_type": "code",
   "execution_count": 8,
   "metadata": {},
   "outputs": [
    {
     "data": {
      "image/png": "[encoded data removed]",
      "text/plain": [
       "<Figure size 432x288 with 2 Axes>"
      ]
     },
     "metadata": {
      "needs_background": "light"
     },
     "output_type": "display_data"
    }
   ],
   "source": [
    "# visualize\n",
    "fig, axs = plt.subplots(1, 2)\n",
    "axs[0].plot(reward_list)\n",
    "axs[0].set_xlabel(\"episode\")\n",
    "axs[0].set_ylabel(\"reward\")\n",
    "\n",
    "axs[1].plot(reward_list)\n",
    "axs[1].set_xlabel(\"episode\")\n",
    "axs[1].set_ylabel(\"dropouts\")\n",
    "\n",
    "axs[0].grid(True)\n",
    "axs[1].grid(True)\n",
    "\n",
    "plt.show()"
   ]
  },
  {
   "cell_type": "code",
   "execution_count": null,
   "metadata": {},
   "outputs": [],
   "source": []
  }
 ],
 "metadata": {
  "kernelspec": {
   "display_name": "Python 3",
   "language": "python",
   "name": "python3"
  },
  "language_info": {
   "codemirror_mode": {
    "name": "ipython",
    "version": 3
   },
   "file_extension": ".py",
   "mimetype": "text/x-python",
   "name": "python",
   "nbconvert_exporter": "python",
   "pygments_lexer": "ipython3",
   "version": "3.8.3"
  }
 },
 "nbformat": 4,
 "nbformat_minor": 4
}
